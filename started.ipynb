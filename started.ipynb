{
  "nbformat": 4,
  "nbformat_minor": 0,
  "metadata": {
    "colab": {
      "name": "started.ipynb",
      "version": "0.3.2",
      "provenance": [],
      "collapsed_sections": [],
      "include_colab_link": true
    },
    "kernelspec": {
      "name": "python3",
      "display_name": "Python 3"
    },
    "accelerator": "GPU"
  },
  "cells": [
    {
      "cell_type": "markdown",
      "metadata": {
        "id": "view-in-github",
        "colab_type": "text"
      },
      "source": [
        "<a href=\"https://colab.research.google.com/github/betonr/init-tensorflow/blob/master/started.ipynb\" target=\"_parent\"><img src=\"https://colab.research.google.com/assets/colab-badge.svg\" alt=\"Open In Colab\"/></a>"
      ]
    },
    {
      "cell_type": "markdown",
      "metadata": {
        "id": "IU9u0TRTiEaY",
        "colab_type": "text"
      },
      "source": [
        "Started with Tensor-Flow"
      ]
    },
    {
      "cell_type": "code",
      "metadata": {
        "id": "o-NK_Y8sh9_I",
        "colab_type": "code",
        "colab": {}
      },
      "source": [
        "import tensorflow as tf\n",
        "tf.logging.set_verbosity(tf.logging.ERROR)\n",
        "\n",
        "import numpy as np"
      ],
      "execution_count": 0,
      "outputs": []
    },
    {
      "cell_type": "code",
      "metadata": {
        "id": "AqYGxvo_if-l",
        "colab_type": "code",
        "colab": {}
      },
      "source": [
        "celsius_q =   np.array([-40, -10,  0,  8, 15, 22,  38], dtype=float)\n",
        "fahrnheit_a = np.array([-40,  14, 32, 46, 59, 72, 100], dtype=float)"
      ],
      "execution_count": 0,
      "outputs": []
    }
  ]
}